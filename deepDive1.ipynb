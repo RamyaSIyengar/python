{
 "cells": [
  {
   "cell_type": "raw",
   "id": "58de5642-1a83-47c3-b787-f62f5e4371af",
   "metadata": {},
   "source": [
    "Functions\n",
    "python -m notebook  => to strt notebook in cmd"
   ]
  },
  {
   "cell_type": "code",
   "execution_count": 3,
   "id": "559b0fa1-7c68-426e-a88a-fc053d46487e",
   "metadata": {},
   "outputs": [],
   "source": [
    "def func1():\n",
    "    return func2()\n",
    "\n",
    "def func2():\n",
    "    return 'called func2'"
   ]
  },
  {
   "cell_type": "code",
   "execution_count": 4,
   "id": "4b65effa-bd5d-4d24-9795-339f89f4f4d8",
   "metadata": {},
   "outputs": [
    {
     "data": {
      "text/plain": [
       "'called func2'"
      ]
     },
     "execution_count": 4,
     "metadata": {},
     "output_type": "execute_result"
    }
   ],
   "source": [
    "func1()\n"
   ]
  },
  {
   "cell_type": "code",
   "execution_count": 5,
   "id": "f1618bd0-7237-4ab2-8a7e-34b451bc48d9",
   "metadata": {},
   "outputs": [
    {
     "ename": "NameError",
     "evalue": "name 'func4' is not defined",
     "output_type": "error",
     "traceback": [
      "\u001b[1;31m---------------------------------------------------------------------------\u001b[0m",
      "\u001b[1;31mNameError\u001b[0m                                 Traceback (most recent call last)",
      "Cell \u001b[1;32mIn[5], line 4\u001b[0m\n\u001b[0;32m      1\u001b[0m \u001b[38;5;28;01mdef\u001b[39;00m \u001b[38;5;21mfunc3\u001b[39m():\n\u001b[0;32m      2\u001b[0m     \u001b[38;5;28;01mreturn\u001b[39;00m func4()\n\u001b[1;32m----> 4\u001b[0m \u001b[43mfunc3\u001b[49m\u001b[43m(\u001b[49m\u001b[43m)\u001b[49m\n\u001b[0;32m      6\u001b[0m \u001b[38;5;28;01mdef\u001b[39;00m \u001b[38;5;21mfunc4\u001b[39m():\n\u001b[0;32m      7\u001b[0m     \u001b[38;5;28;01mreturn\u001b[39;00m \u001b[38;5;124m'\u001b[39m\u001b[38;5;124mrunning func4\u001b[39m\u001b[38;5;124m'\u001b[39m\n",
      "Cell \u001b[1;32mIn[5], line 2\u001b[0m, in \u001b[0;36mfunc3\u001b[1;34m()\u001b[0m\n\u001b[0;32m      1\u001b[0m \u001b[38;5;28;01mdef\u001b[39;00m \u001b[38;5;21mfunc3\u001b[39m():\n\u001b[1;32m----> 2\u001b[0m     \u001b[38;5;28;01mreturn\u001b[39;00m \u001b[43mfunc4\u001b[49m()\n",
      "\u001b[1;31mNameError\u001b[0m: name 'func4' is not defined"
     ]
    }
   ],
   "source": [
    "def func3():\n",
    "    return func4()\n",
    "\n",
    "func3()\n",
    "\n",
    "def func4():\n",
    "    return 'running func4'"
   ]
  },
  {
   "cell_type": "code",
   "execution_count": 12,
   "id": "ac451f89-bddd-4001-aa0e-4202fa60fe51",
   "metadata": {},
   "outputs": [],
   "source": [
    "sqrt = lambda x:x**2"
   ]
  },
  {
   "cell_type": "code",
   "execution_count": 13,
   "id": "b5b1f560-da22-4e71-8123-9dff62eee544",
   "metadata": {},
   "outputs": [
    {
     "data": {
      "text/plain": [
       "9"
      ]
     },
     "execution_count": 13,
     "metadata": {},
     "output_type": "execute_result"
    }
   ],
   "source": [
    "sqrt(3)"
   ]
  },
  {
   "cell_type": "code",
   "execution_count": 14,
   "id": "39e0ae86-4efa-4bb7-b56c-921d20c937f1",
   "metadata": {},
   "outputs": [
    {
     "data": {
      "text/plain": [
       "<function __main__.<lambda>(x)>"
      ]
     },
     "execution_count": 14,
     "metadata": {},
     "output_type": "execute_result"
    }
   ],
   "source": [
    "sqrt"
   ]
  },
  {
   "cell_type": "code",
   "execution_count": 18,
   "id": "a4cd3d47-8d1a-4d74-bb6c-082c407fed5a",
   "metadata": {},
   "outputs": [
    {
     "name": "stdout",
     "output_type": "stream",
     "text": [
      "1\n",
      "2\n",
      "3\n",
      "4\n",
      "5\n"
     ]
    }
   ],
   "source": [
    "i=1\n",
    "\n",
    "while True:\n",
    "    print(i)\n",
    "    if i>=5:\n",
    "        break\n",
    "        print(\"after break\")\n",
    "    i+=1"
   ]
  },
  {
   "cell_type": "code",
   "execution_count": 25,
   "id": "07c54804-27ee-4fa0-a546-20a2af1638b9",
   "metadata": {},
   "outputs": [
    {
     "data": {
      "text/plain": [
       "True"
      ]
     },
     "execution_count": 25,
     "metadata": {},
     "output_type": "execute_result"
    }
   ],
   "source": [
    "\"ramya\".isprintable()\n"
   ]
  },
  {
   "cell_type": "code",
   "execution_count": 24,
   "id": "ab703170-0c93-4f21-b863-f1913d206d62",
   "metadata": {},
   "outputs": [
    {
     "data": {
      "text/plain": [
       "True"
      ]
     },
     "execution_count": 24,
     "metadata": {},
     "output_type": "execute_result"
    }
   ],
   "source": [
    "\"ramya\".isalpha()"
   ]
  },
  {
   "cell_type": "code",
   "execution_count": 29,
   "id": "19a2f605-b64b-452a-9406-914b54725a11",
   "metadata": {},
   "outputs": [
    {
     "name": "stdin",
     "output_type": "stream",
     "text": [
      "Enter your name ramya\n"
     ]
    },
    {
     "name": "stdout",
     "output_type": "stream",
     "text": [
      "Hello, ramya\n"
     ]
    }
   ],
   "source": [
    "min_length = 2\n",
    "\n",
    "while True:\n",
    "    name = input(\"Enter your name\")\n",
    "    if len(name)>= min_length and name.isprintable() and name.isalpha():\n",
    "        break\n",
    "print(\"Hello, {0}\".format(name))"
   ]
  },
  {
   "cell_type": "code",
   "execution_count": 35,
   "id": "b55d9c12-93a8-4d06-a1b8-b9dbc396ff57",
   "metadata": {},
   "outputs": [
    {
     "name": "stdout",
     "output_type": "stream",
     "text": [
      "[1, 3, 5, 2]\n"
     ]
    }
   ],
   "source": [
    "# traverse through the list and check if a number is there or not if not present add it to the list\n",
    "\n",
    "lst = [1,3,5]\n",
    "num = 2\n",
    "\n",
    "idx=0\n",
    "\n",
    "while idx < len(lst):\n",
    "    if lst[idx] == num:\n",
    "        print(lst)\n",
    "        break\n",
    "    idx+=1\n",
    "    \n",
    "else:\n",
    "    lst.append(num)\n",
    "    print(lst)\n",
    "\n"
   ]
  },
  {
   "cell_type": "code",
   "execution_count": 2,
   "id": "7dc40af2-5716-44fc-8946-4446fcdeb362",
   "metadata": {},
   "outputs": [
    {
     "name": "stdout",
     "output_type": "stream",
     "text": [
      "---------\n",
      "this always executes\n",
      "1 / 1 - main loop\n",
      "---------\n",
      "2, 0- division by 0\n",
      "this always executes\n",
      "---------\n",
      "this always executes\n",
      "3 / -1 - main loop\n",
      "---------\n",
      "this always executes\n",
      "4 / -2 - main loop\n"
     ]
    }
   ],
   "source": [
    "a =0\n",
    "b = 2\n",
    "\n",
    "while a < 4:\n",
    "    print(\"---------\")\n",
    "    a += 1\n",
    "    b -= 1\n",
    "    \n",
    "    try:\n",
    "        a/b\n",
    "    except ZeroDivisionError:\n",
    "        print(\"{0}, {1}- division by 0\".format(a,b))\n",
    "        continue\n",
    "    finally:\n",
    "        print(\"this always executes\") \n",
    "    print(\"{0} / {1} - main loop\".format(a, b))\n",
    "\n"
   ]
  },
  {
   "cell_type": "code",
   "execution_count": 5,
   "id": "a6a89665-5210-4d0c-b918-a9a6689c8e2c",
   "metadata": {},
   "outputs": [
    {
     "name": "stdout",
     "output_type": "stream",
     "text": [
      "---------\n",
      "1 / 1 this always executes\n",
      "1 / 1 - main loop\n",
      "---------\n",
      "2, 0 - division by 0\n",
      "2 / 0 this always executes\n"
     ]
    }
   ],
   "source": [
    "a =0\n",
    "b = 2\n",
    "\n",
    "while a < 4:\n",
    "    print(\"---------\")\n",
    "    a += 1\n",
    "    b -= 1\n",
    "    \n",
    "    try:\n",
    "        a/b\n",
    "    except ZeroDivisionError:\n",
    "        print(\"{0}, {1} - division by 0\".format(a,b))\n",
    "        break\n",
    "    finally:\n",
    "        print(\"{0} / {1} this always executes\".format(a, b))\n",
    "    print(\"{0} / {1} - main loop\".format(a, b))\n",
    "\n"
   ]
  },
  {
   "cell_type": "code",
   "execution_count": 6,
   "id": "9f1fb08a-b269-4861-8ff9-9594dd00fd8a",
   "metadata": {},
   "outputs": [
    {
     "name": "stdout",
     "output_type": "stream",
     "text": [
      "0 h\n",
      "1 e\n",
      "2 l\n",
      "3 l\n",
      "4 o\n"
     ]
    }
   ],
   "source": [
    "s= 'hello'\n",
    "for i in range(len(s)):\n",
    "    print(i, s[i])\n",
    "    "
   ]
  },
  {
   "cell_type": "code",
   "execution_count": 9,
   "id": "f1b8e421-badb-4fc3-8db2-2cb19c1cae05",
   "metadata": {},
   "outputs": [
    {
     "name": "stdout",
     "output_type": "stream",
     "text": [
      "0 h\n",
      "1 e\n",
      "2 l\n",
      "3 l\n",
      "4 o\n",
      "5 k\n",
      "6 i\n",
      "7 t\n",
      "8 t\n",
      "9 y\n"
     ]
    }
   ],
   "source": [
    "# The enumerate() function takes a collection (e.g. a tuple) and returns it as an enumerate object.\n",
    "# The enumerate() function adds a counter as the key of the enumerate object.\n",
    "\n",
    "s= 'hellokitty'\n",
    "for i, c in enumerate(s):\n",
    "    print(i, c)"
   ]
  },
  {
   "cell_type": "markdown",
   "id": "07230a0c-884f-4cea-af9c-cdfc3e498ef6",
   "metadata": {},
   "source": [
    "Classes"
   ]
  },
  {
   "cell_type": "code",
   "execution_count": 10,
   "id": "3f369d46-3944-4c5f-8898-a73ecdcf9255",
   "metadata": {},
   "outputs": [],
   "source": [
    "class Rectangle:\n",
    "\n",
    "    def __init__(self, width, height):\n",
    "        print(\"new obj created\")\n",
    "        self.width = width\n",
    "        self.height = height\n",
    "        "
   ]
  },
  {
   "cell_type": "code",
   "execution_count": 11,
   "id": "017ad46b-d8e3-42bb-aad1-297b2d665d2c",
   "metadata": {},
   "outputs": [
    {
     "name": "stdout",
     "output_type": "stream",
     "text": [
      "new obj created\n"
     ]
    }
   ],
   "source": [
    "r = Rectangle(3, 5)"
   ]
  },
  {
   "cell_type": "code",
   "execution_count": 12,
   "id": "ab112c8d-d418-4dc7-a55f-60ba041a146f",
   "metadata": {},
   "outputs": [
    {
     "data": {
      "text/plain": [
       "3"
      ]
     },
     "execution_count": 12,
     "metadata": {},
     "output_type": "execute_result"
    }
   ],
   "source": [
    "r.width"
   ]
  },
  {
   "cell_type": "code",
   "execution_count": 13,
   "id": "2d78f859-5c38-4b5c-8050-ed186f02d969",
   "metadata": {},
   "outputs": [],
   "source": [
    "r.heigth = 10"
   ]
  },
  {
   "cell_type": "code",
   "execution_count": 14,
   "id": "7e5faa33-e408-41b9-8263-02e7e434103f",
   "metadata": {},
   "outputs": [
    {
     "data": {
      "text/plain": [
       "10"
      ]
     },
     "execution_count": 14,
     "metadata": {},
     "output_type": "execute_result"
    }
   ],
   "source": [
    "r.heigth\n"
   ]
  },
  {
   "cell_type": "code",
   "execution_count": 64,
   "id": "5d481877-2322-4da4-bee4-c8b5189d2422",
   "metadata": {},
   "outputs": [],
   "source": [
    "class Rectangle:\n",
    "\n",
    "    def __init__(self, width, height):\n",
    "        self.width = width\n",
    "        self.height = height\n",
    "\n",
    "    # overriding\n",
    "    # __str__(self): Defines behavior for when str() is called on an instance of your class.\n",
    "    # __repr__(self): To get called by the built-in repr() method to return a machine-readable representation of a type.\n",
    "    def __str__(self):\n",
    "        return 'Rectangle: width:{0}, height:{1}'.format(self.width, self.height)\n",
    "\n",
    "    def __repr__(self):\n",
    "        return 'Rectangle({0}, {1})'.format(self.width, self.height)\n",
    "\n",
    "    def area(self):\n",
    "        return self.width*self.height\n",
    "\n",
    "    def perimeter(self):\n",
    "        return 2*(self.width*self.height)"
   ]
  },
  {
   "cell_type": "code",
   "execution_count": 65,
   "id": "022d6e9e-0c53-405b-8622-c53787aa4e35",
   "metadata": {},
   "outputs": [],
   "source": [
    "r2 = Rectangle(10, 20)"
   ]
  },
  {
   "cell_type": "code",
   "execution_count": 72,
   "id": "6c6407bd-4876-4844-9d3c-5dd5392c4476",
   "metadata": {},
   "outputs": [],
   "source": [
    "r1 = Rectangle(10, 20)"
   ]
  },
  {
   "cell_type": "code",
   "execution_count": 66,
   "id": "566a0b75-5759-4a8c-abe9-d3a008d0813a",
   "metadata": {},
   "outputs": [
    {
     "data": {
      "text/plain": [
       "(400, 200)"
      ]
     },
     "execution_count": 66,
     "metadata": {},
     "output_type": "execute_result"
    }
   ],
   "source": [
    "r2.perimeter(), r2.area()"
   ]
  },
  {
   "cell_type": "code",
   "execution_count": 67,
   "id": "9d2bf658-302b-4ff0-81e9-b43fee58b0c8",
   "metadata": {},
   "outputs": [
    {
     "data": {
      "text/plain": [
       "'Rectangle: width:10, height:20'"
      ]
     },
     "execution_count": 67,
     "metadata": {},
     "output_type": "execute_result"
    }
   ],
   "source": [
    "str(r2)"
   ]
  },
  {
   "cell_type": "code",
   "execution_count": 54,
   "id": "3e5535cf-99f3-4b30-b6b2-9cc48d3b5ead",
   "metadata": {},
   "outputs": [
    {
     "data": {
      "text/plain": [
       "(1694413544736, '0x18a82eadd20')"
      ]
     },
     "execution_count": 54,
     "metadata": {},
     "output_type": "execute_result"
    }
   ],
   "source": [
    "id(r2), hex(id(r2))"
   ]
  },
  {
   "cell_type": "code",
   "execution_count": 68,
   "id": "9a46cc06-5f6b-4e51-ad44-f27c045a30ef",
   "metadata": {},
   "outputs": [
    {
     "data": {
      "text/plain": [
       "Rectangle(10, 20)"
      ]
     },
     "execution_count": 68,
     "metadata": {},
     "output_type": "execute_result"
    }
   ],
   "source": [
    "r2"
   ]
  },
  {
   "cell_type": "code",
   "execution_count": 69,
   "id": "7949ad0b-2729-4ce0-bf2c-6393da083e58",
   "metadata": {},
   "outputs": [
    {
     "data": {
      "text/plain": [
       "'Rectangle: width:10, height:20'"
      ]
     },
     "execution_count": 69,
     "metadata": {},
     "output_type": "execute_result"
    }
   ],
   "source": [
    "str(r2)\n"
   ]
  },
  {
   "cell_type": "markdown",
   "id": "9b5a31fc-d956-47c3-ae51-cee5bd712984",
   "metadata": {},
   "source": [
    "Dunder Methods / magic mathods"
   ]
  },
  {
   "cell_type": "code",
   "execution_count": 70,
   "id": "19d37234-2c05-48ef-a995-bbbbed90b94e",
   "metadata": {},
   "outputs": [
    {
     "data": {
      "text/plain": [
       "['__abs__',\n",
       " '__add__',\n",
       " '__and__',\n",
       " '__bool__',\n",
       " '__ceil__',\n",
       " '__class__',\n",
       " '__delattr__',\n",
       " '__dir__',\n",
       " '__divmod__',\n",
       " '__doc__',\n",
       " '__eq__',\n",
       " '__float__',\n",
       " '__floor__',\n",
       " '__floordiv__',\n",
       " '__format__',\n",
       " '__ge__',\n",
       " '__getattribute__',\n",
       " '__getnewargs__',\n",
       " '__gt__',\n",
       " '__hash__',\n",
       " '__index__',\n",
       " '__init__',\n",
       " '__init_subclass__',\n",
       " '__int__',\n",
       " '__invert__',\n",
       " '__le__',\n",
       " '__lshift__',\n",
       " '__lt__',\n",
       " '__mod__',\n",
       " '__mul__',\n",
       " '__ne__',\n",
       " '__neg__',\n",
       " '__new__',\n",
       " '__or__',\n",
       " '__pos__',\n",
       " '__pow__',\n",
       " '__radd__',\n",
       " '__rand__',\n",
       " '__rdivmod__',\n",
       " '__reduce__',\n",
       " '__reduce_ex__',\n",
       " '__repr__',\n",
       " '__rfloordiv__',\n",
       " '__rlshift__',\n",
       " '__rmod__',\n",
       " '__rmul__',\n",
       " '__ror__',\n",
       " '__round__',\n",
       " '__rpow__',\n",
       " '__rrshift__',\n",
       " '__rshift__',\n",
       " '__rsub__',\n",
       " '__rtruediv__',\n",
       " '__rxor__',\n",
       " '__setattr__',\n",
       " '__sizeof__',\n",
       " '__str__',\n",
       " '__sub__',\n",
       " '__subclasshook__',\n",
       " '__truediv__',\n",
       " '__trunc__',\n",
       " '__xor__',\n",
       " 'as_integer_ratio',\n",
       " 'bit_count',\n",
       " 'bit_length',\n",
       " 'conjugate',\n",
       " 'denominator',\n",
       " 'from_bytes',\n",
       " 'imag',\n",
       " 'numerator',\n",
       " 'real',\n",
       " 'to_bytes']"
      ]
     },
     "execution_count": 70,
     "metadata": {},
     "output_type": "execute_result"
    }
   ],
   "source": [
    "dir(int)\n",
    "# the magic methods inherited by int class.\n"
   ]
  },
  {
   "cell_type": "code",
   "execution_count": 73,
   "id": "1ce818c8-ae73-4d5f-936c-699046f36778",
   "metadata": {},
   "outputs": [
    {
     "data": {
      "text/plain": [
       "True"
      ]
     },
     "execution_count": 73,
     "metadata": {},
     "output_type": "execute_result"
    }
   ],
   "source": [
    "r1 is not r2"
   ]
  },
  {
   "cell_type": "code",
   "execution_count": 79,
   "id": "feb10d18-498d-414e-aaed-a83038786f3e",
   "metadata": {},
   "outputs": [
    {
     "name": "stdout",
     "output_type": "stream",
     "text": [
      "True\n"
     ]
    }
   ],
   "source": [
    "# Check if y is an instance of myObj:\n",
    "# The isinstance() function returns True if the specified object is of the specified type, otherwise False.\n",
    "\n",
    "class myObj:\n",
    "  name = \"John\"\n",
    "\n",
    "y = myObj()\n",
    "\n",
    "x = isinstance(y, myObj)\n",
    "\n",
    "print(x)\n"
   ]
  },
  {
   "cell_type": "code",
   "execution_count": 80,
   "id": "918310fa-b8ed-4594-947f-b0f9867d8781",
   "metadata": {},
   "outputs": [],
   "source": [
    "# __eq__(self, other): Defines behavior for the equality operator, ==.\n",
    "\n",
    "\n",
    "class Rectangle:\n",
    "\n",
    "    def __init__(self, width, height):\n",
    "        self.width = width\n",
    "        self.height = height\n",
    "\n",
    "    def area(self):\n",
    "        return self.width*self.height\n",
    "\n",
    "    def perimeter(self):\n",
    "        return 2*(self.width*self.height)\n",
    "\n",
    "    # overriding\n",
    "    # __str__(self): Defines behavior for when str() is called on an instance of your class.\n",
    "    # __repr__(self): To get called by the built-in repr() method to return a machine-readable representation of a type.\n",
    "    def __str__(self):\n",
    "        return 'Rectangle: width:{0}, height:{1}'.format(self.width, self.height)\n",
    "\n",
    "    def __repr__(self):\n",
    "        return 'Rectangle({0}, {1})'.format(self.width, self.height)\n",
    "\n",
    "    # __eq__ => '=='\n",
    "    def __eq__(self, other):\n",
    "        if isinstance(other, Rectangle):\n",
    "            return self.width == other.width and self.height == other.height\n",
    "        else:\n",
    "            return False\n",
    "\n",
    "    # less than => '<'\n",
    "    def __lt__(self, other):\n",
    "        if isinstance(other, Rectangle):\n",
    "            return self.area() < other.area()\n",
    "        else:\n",
    "            return NotImplemented\n",
    "        \n",
    "\n"
   ]
  },
  {
   "cell_type": "code",
   "execution_count": 92,
   "id": "d6fbacad-065c-4443-957f-8d39d9832ca2",
   "metadata": {},
   "outputs": [],
   "source": [
    "r1 = Rectangle(10, 20)\n",
    "r2 = Rectangle(10,20)\n",
    "r3 = Rectangle(100, 200)"
   ]
  },
  {
   "cell_type": "code",
   "execution_count": 93,
   "id": "9b820544-940d-4a34-a454-e632acbe19b5",
   "metadata": {},
   "outputs": [
    {
     "data": {
      "text/plain": [
       "True"
      ]
     },
     "execution_count": 93,
     "metadata": {},
     "output_type": "execute_result"
    }
   ],
   "source": [
    "r1 is not r2"
   ]
  },
  {
   "cell_type": "code",
   "execution_count": 94,
   "id": "772ff6d1-0388-4c40-8bc7-df8b800a2bd6",
   "metadata": {},
   "outputs": [
    {
     "data": {
      "text/plain": [
       "True"
      ]
     },
     "execution_count": 94,
     "metadata": {},
     "output_type": "execute_result"
    }
   ],
   "source": [
    "r1 == r2"
   ]
  },
  {
   "cell_type": "code",
   "execution_count": 95,
   "id": "2f442b1d-a4f2-4b37-9881-477a0bb670cc",
   "metadata": {},
   "outputs": [
    {
     "data": {
      "text/plain": [
       "True"
      ]
     },
     "execution_count": 95,
     "metadata": {},
     "output_type": "execute_result"
    }
   ],
   "source": [
    "r1 < r3"
   ]
  },
  {
   "cell_type": "code",
   "execution_count": 96,
   "id": "02b3db9f-bc51-4f0d-a565-3383a423a76f",
   "metadata": {},
   "outputs": [
    {
     "data": {
      "text/plain": [
       "False"
      ]
     },
     "execution_count": 96,
     "metadata": {},
     "output_type": "execute_result"
    }
   ],
   "source": [
    "r1 > r3"
   ]
  },
  {
   "cell_type": "markdown",
   "id": "7e9853a0-4cc5-4341-b7bd-bf1493f18e96",
   "metadata": {},
   "source": [
    "Getters and Setters\n"
   ]
  },
  {
   "cell_type": "code",
   "execution_count": 97,
   "id": "5ad3c39c-ab53-4f31-8f21-61b0b5db38ba",
   "metadata": {},
   "outputs": [],
   "source": [
    "class Rectangle:\n",
    "\n",
    "    def __init__(self, width, height):\n",
    "        self._width = width  # private variable - its just a convention there is no private variable thing in python\n",
    "        self._height = height\n",
    "\n",
    "    def get_width(self):\n",
    "        return self._width\n",
    "\n",
    "    def set_width(self, width):\n",
    "        if width<=0:\n",
    "            raise ValueError('Width must be positive')\n",
    "        else:\n",
    "            self._width = width\n",
    "\n",
    "        \n",
    "    def __str__(self):\n",
    "        return 'Rectangle: width:{0}, height:{1}'.format(self._width, self._height)\n",
    "\n",
    "    def __repr__(self):\n",
    "        return 'Rectangle({0}, {1})'.format(self._width, self._height)\n",
    "\n",
    "    # __eq__ => '=='\n",
    "    def __eq__(self, other):\n",
    "        if isinstance(other, Rectangle):\n",
    "            return self._width == other._width and self._height == other._height\n",
    "        else:\n",
    "            return False\n"
   ]
  },
  {
   "cell_type": "code",
   "execution_count": 98,
   "id": "72c6a2c7-4f62-4499-9c6a-56e19c950a68",
   "metadata": {},
   "outputs": [],
   "source": [
    "r1 = Rectangle(10, 20)"
   ]
  },
  {
   "cell_type": "code",
   "execution_count": 101,
   "id": "7da8bbb3-0719-4774-bd91-2e77c66133a0",
   "metadata": {},
   "outputs": [
    {
     "ename": "AttributeError",
     "evalue": "'Rectangle' object has no attribute 'width'",
     "output_type": "error",
     "traceback": [
      "\u001b[1;31m---------------------------------------------------------------------------\u001b[0m",
      "\u001b[1;31mAttributeError\u001b[0m                            Traceback (most recent call last)",
      "Cell \u001b[1;32mIn[101], line 1\u001b[0m\n\u001b[1;32m----> 1\u001b[0m \u001b[43mr1\u001b[49m\u001b[38;5;241;43m.\u001b[39;49m\u001b[43mwidth\u001b[49m\n",
      "\u001b[1;31mAttributeError\u001b[0m: 'Rectangle' object has no attribute 'width'"
     ]
    }
   ],
   "source": [
    "r1.width"
   ]
  },
  {
   "cell_type": "code",
   "execution_count": 102,
   "id": "26c76331-6d0b-4d45-acaf-63a133c7bf4c",
   "metadata": {},
   "outputs": [
    {
     "data": {
      "text/plain": [
       "10"
      ]
     },
     "execution_count": 102,
     "metadata": {},
     "output_type": "execute_result"
    }
   ],
   "source": [
    "r1.get_width() # shd access width like this not with r1.width"
   ]
  },
  {
   "cell_type": "code",
   "execution_count": 105,
   "id": "476ed97d-e255-4fb5-94e2-f0ba5fb63c6c",
   "metadata": {},
   "outputs": [
    {
     "ename": "ValueError",
     "evalue": "Width must be positive",
     "output_type": "error",
     "traceback": [
      "\u001b[1;31m---------------------------------------------------------------------------\u001b[0m",
      "\u001b[1;31mValueError\u001b[0m                                Traceback (most recent call last)",
      "Cell \u001b[1;32mIn[105], line 1\u001b[0m\n\u001b[1;32m----> 1\u001b[0m \u001b[43mr1\u001b[49m\u001b[38;5;241;43m.\u001b[39;49m\u001b[43mset_width\u001b[49m\u001b[43m(\u001b[49m\u001b[38;5;241;43m-\u001b[39;49m\u001b[38;5;241;43m50\u001b[39;49m\u001b[43m)\u001b[49m\n",
      "Cell \u001b[1;32mIn[97], line 12\u001b[0m, in \u001b[0;36mRectangle.set_width\u001b[1;34m(self, width)\u001b[0m\n\u001b[0;32m     10\u001b[0m \u001b[38;5;28;01mdef\u001b[39;00m \u001b[38;5;21mset_width\u001b[39m(\u001b[38;5;28mself\u001b[39m, width):\n\u001b[0;32m     11\u001b[0m     \u001b[38;5;28;01mif\u001b[39;00m width\u001b[38;5;241m<\u001b[39m\u001b[38;5;241m=\u001b[39m\u001b[38;5;241m0\u001b[39m:\n\u001b[1;32m---> 12\u001b[0m         \u001b[38;5;28;01mraise\u001b[39;00m \u001b[38;5;167;01mValueError\u001b[39;00m(\u001b[38;5;124m'\u001b[39m\u001b[38;5;124mWidth must be positive\u001b[39m\u001b[38;5;124m'\u001b[39m)\n\u001b[0;32m     13\u001b[0m     \u001b[38;5;28;01melse\u001b[39;00m:\n\u001b[0;32m     14\u001b[0m         \u001b[38;5;28mself\u001b[39m\u001b[38;5;241m.\u001b[39m_width \u001b[38;5;241m=\u001b[39m width\n",
      "\u001b[1;31mValueError\u001b[0m: Width must be positive"
     ]
    }
   ],
   "source": [
    "r1.set_width(-50)"
   ]
  },
  {
   "cell_type": "code",
   "execution_count": 104,
   "id": "b14747f5-b1b3-43f5-b884-6c81ffc32a24",
   "metadata": {},
   "outputs": [
    {
     "data": {
      "text/plain": [
       "50"
      ]
     },
     "execution_count": 104,
     "metadata": {},
     "output_type": "execute_result"
    }
   ],
   "source": [
    "r1.get_width()"
   ]
  },
  {
   "cell_type": "code",
   "execution_count": 107,
   "id": "235d7247-993e-4393-9a7b-1db9981f3f8d",
   "metadata": {},
   "outputs": [],
   "source": [
    "r1.set_width(100)"
   ]
  },
  {
   "cell_type": "code",
   "execution_count": 108,
   "id": "2cdd2172-efc5-4e74-9acd-11252d733f37",
   "metadata": {},
   "outputs": [
    {
     "data": {
      "text/plain": [
       "Rectangle(100, 20)"
      ]
     },
     "execution_count": 108,
     "metadata": {},
     "output_type": "execute_result"
    }
   ],
   "source": [
    "r1"
   ]
  },
  {
   "cell_type": "markdown",
   "id": "36f2c8cc-bfd5-44dd-be43-95444f81b1f9",
   "metadata": {},
   "source": [
    "@property is one of Python's built-in decorators. The primary goal of any decorator is to modify the class methods or attributes so that the class user does not need to change their code."
   ]
  },
  {
   "cell_type": "code",
   "execution_count": 109,
   "id": "6170b0da-8932-48c0-8aa3-0f093dc16d71",
   "metadata": {},
   "outputs": [],
   "source": [
    "class Rectangle:\n",
    "\n",
    "    def __init__(self, width, height):\n",
    "        self._width = width  # private variable - its just a convention there is no private variable thing in python\n",
    "        self._height = height\n",
    "    \n",
    "    @property\n",
    "    def width(self):\n",
    "        return self._width\n",
    "\n",
    "    @width.setter\n",
    "    def width(self, width):\n",
    "        if width <= 0:\n",
    "            raise ValueError('Width must be positive')\n",
    "        else:\n",
    "            self._width = width\n",
    "\n",
    "    @property\n",
    "    def height(self):\n",
    "        return self._height\n",
    "\n",
    "    @height.setter\n",
    "    def height(self, height):\n",
    "        if height <= 0:\n",
    "            raise ValueError('height must be positive')\n",
    "        else:\n",
    "            self._height = height\n",
    "\n",
    "        \n",
    "    def __str__(self):\n",
    "        return 'Rectangle: width:{0}, height:{1}'.format(self._width, self._height)\n",
    "\n",
    "    def __repr__(self):\n",
    "        return 'Rectangle({0}, {1})'.format(self._width, self._height)\n",
    "\n",
    "    # __eq__ => '=='\n",
    "    def __eq__(self, other):\n",
    "        if isinstance(other, Rectangle):\n",
    "            return self._width == other._width and self._height == other._height\n",
    "        else:\n",
    "            return False\n"
   ]
  },
  {
   "cell_type": "code",
   "execution_count": 110,
   "id": "8e3c27f1-b16d-447b-9f6a-542cbd5097a8",
   "metadata": {},
   "outputs": [],
   "source": [
    "r2 = Rectangle(100, 200)"
   ]
  },
  {
   "cell_type": "code",
   "execution_count": 111,
   "id": "6415e697-4f53-4a90-a129-b02fcb76bc4d",
   "metadata": {},
   "outputs": [
    {
     "data": {
      "text/plain": [
       "Rectangle(100, 200)"
      ]
     },
     "execution_count": 111,
     "metadata": {},
     "output_type": "execute_result"
    }
   ],
   "source": [
    "r2"
   ]
  },
  {
   "cell_type": "code",
   "execution_count": 112,
   "id": "e94bd8e7-2788-42a9-b51d-72214e821688",
   "metadata": {},
   "outputs": [
    {
     "data": {
      "text/plain": [
       "100"
      ]
     },
     "execution_count": 112,
     "metadata": {},
     "output_type": "execute_result"
    }
   ],
   "source": [
    "r2.width"
   ]
  },
  {
   "cell_type": "code",
   "execution_count": 113,
   "id": "46ad23ef-37e0-44ef-9b48-dae5495af3e0",
   "metadata": {},
   "outputs": [
    {
     "data": {
      "text/plain": [
       "200"
      ]
     },
     "execution_count": 113,
     "metadata": {},
     "output_type": "execute_result"
    }
   ],
   "source": [
    "r2.height"
   ]
  },
  {
   "cell_type": "code",
   "execution_count": 116,
   "id": "00a9c14b-61c4-4672-8f3f-608c5df3f5e4",
   "metadata": {},
   "outputs": [],
   "source": [
    "r2.width = 10\n",
    "r2.height = 350"
   ]
  },
  {
   "cell_type": "code",
   "execution_count": 117,
   "id": "af084eeb-ce99-44c1-94f2-b0d5c85ebc51",
   "metadata": {},
   "outputs": [
    {
     "data": {
      "text/plain": [
       "Rectangle(10, 350)"
      ]
     },
     "execution_count": 117,
     "metadata": {},
     "output_type": "execute_result"
    }
   ],
   "source": [
    "r2"
   ]
  },
  {
   "cell_type": "markdown",
   "id": "d30595e7-1c9a-4fce-b84d-1aa0b173a321",
   "metadata": {},
   "source": [
    "Encapsulation:\n",
    "\n",
    "The _width and _height attributes are \"private\" by convention, signaled by the leading underscore. While Python does not enforce private variables, this convention indicates that these attributes are intended for internal use.\n",
    "Property decorators (@property and @width.setter) are used to create getter and setter methods for width and height, ensuring controlled access to these attributes.\n",
    "Data validation:\n",
    "\n",
    "The setter methods check that the width and height are positive numbers, throwing a ValueError if not, thus enforcing business logic.\n",
    "String representation:\n",
    "\n",
    "The __str__() method defines a human-readable string representation of the object, while __repr__() provides a more formal string representation useful for debugging.\n",
    "Equality comparison:\n",
    "\n",
    "The __eq__() method allows you to compare two Rectangle objects for equality based on their width and height."
   ]
  },
  {
   "cell_type": "code",
   "execution_count": 118,
   "id": "da087fb5-29e1-4401-9b98-268c57ba2577",
   "metadata": {},
   "outputs": [],
   "source": [
    "class Rectangle:\n",
    "\n",
    "    def __init__(self, width, height):\n",
    "        self.width = width  # internally uses setter width method to set width if negative value given it will raise value error\n",
    "        self.height = height\n",
    "    \n",
    "    @property\n",
    "    def width(self):\n",
    "        return self._width\n",
    "\n",
    "    @width.setter\n",
    "    def width(self, width):\n",
    "        if width <= 0:\n",
    "            raise ValueError('Width must be positive')\n",
    "        else:\n",
    "            self._width = width\n",
    "\n",
    "    @property\n",
    "    def height(self):\n",
    "        return self._height\n",
    "\n",
    "    @height.setter\n",
    "    def height(self, height):\n",
    "        if height <= 0:\n",
    "            raise ValueError('height must be positive')\n",
    "        else:\n",
    "            self._height = height\n",
    "\n",
    "        \n",
    "    def __str__(self):\n",
    "        return 'Rectangle: width:{0}, height:{1}'.format(self._width, self._height)\n",
    "\n",
    "    def __repr__(self):\n",
    "        return 'Rectangle({0}, {1})'.format(self._width, self._height)\n",
    "\n",
    "    # __eq__ => '=='\n",
    "    def __eq__(self, other):\n",
    "        if isinstance(other, Rectangle):\n",
    "            return self._width == other._width and self._height == other._height\n",
    "        else:\n",
    "            return False\n"
   ]
  },
  {
   "cell_type": "code",
   "execution_count": 119,
   "id": "81973f55-31d0-4ae1-9bf9-83d356b6c6a5",
   "metadata": {},
   "outputs": [
    {
     "ename": "ValueError",
     "evalue": "Width must be positive",
     "output_type": "error",
     "traceback": [
      "\u001b[1;31m---------------------------------------------------------------------------\u001b[0m",
      "\u001b[1;31mValueError\u001b[0m                                Traceback (most recent call last)",
      "Cell \u001b[1;32mIn[119], line 1\u001b[0m\n\u001b[1;32m----> 1\u001b[0m r3 \u001b[38;5;241m=\u001b[39m \u001b[43mRectangle\u001b[49m\u001b[43m(\u001b[49m\u001b[38;5;241;43m-\u001b[39;49m\u001b[38;5;241;43m100\u001b[39;49m\u001b[43m,\u001b[49m\u001b[43m \u001b[49m\u001b[38;5;241;43m20\u001b[39;49m\u001b[43m)\u001b[49m\n",
      "Cell \u001b[1;32mIn[118], line 4\u001b[0m, in \u001b[0;36mRectangle.__init__\u001b[1;34m(self, width, height)\u001b[0m\n\u001b[0;32m      3\u001b[0m \u001b[38;5;28;01mdef\u001b[39;00m \u001b[38;5;21m__init__\u001b[39m(\u001b[38;5;28mself\u001b[39m, width, height):\n\u001b[1;32m----> 4\u001b[0m     \u001b[38;5;28;43mself\u001b[39;49m\u001b[38;5;241;43m.\u001b[39;49m\u001b[43mwidth\u001b[49m \u001b[38;5;241m=\u001b[39m width  \u001b[38;5;66;03m# internally uses setter width method to set width if negative value given it will raise value error\u001b[39;00m\n\u001b[0;32m      5\u001b[0m     \u001b[38;5;28mself\u001b[39m\u001b[38;5;241m.\u001b[39mheight \u001b[38;5;241m=\u001b[39m height\n",
      "Cell \u001b[1;32mIn[118], line 14\u001b[0m, in \u001b[0;36mRectangle.width\u001b[1;34m(self, width)\u001b[0m\n\u001b[0;32m     11\u001b[0m \u001b[38;5;129m@width\u001b[39m\u001b[38;5;241m.\u001b[39msetter\n\u001b[0;32m     12\u001b[0m \u001b[38;5;28;01mdef\u001b[39;00m \u001b[38;5;21mwidth\u001b[39m(\u001b[38;5;28mself\u001b[39m, width):\n\u001b[0;32m     13\u001b[0m     \u001b[38;5;28;01mif\u001b[39;00m width \u001b[38;5;241m<\u001b[39m\u001b[38;5;241m=\u001b[39m \u001b[38;5;241m0\u001b[39m:\n\u001b[1;32m---> 14\u001b[0m         \u001b[38;5;28;01mraise\u001b[39;00m \u001b[38;5;167;01mValueError\u001b[39;00m(\u001b[38;5;124m'\u001b[39m\u001b[38;5;124mWidth must be positive\u001b[39m\u001b[38;5;124m'\u001b[39m)\n\u001b[0;32m     15\u001b[0m     \u001b[38;5;28;01melse\u001b[39;00m:\n\u001b[0;32m     16\u001b[0m         \u001b[38;5;28mself\u001b[39m\u001b[38;5;241m.\u001b[39m_width \u001b[38;5;241m=\u001b[39m width\n",
      "\u001b[1;31mValueError\u001b[0m: Width must be positive"
     ]
    }
   ],
   "source": [
    "r3 = Rectangle(-100, 20)"
   ]
  },
  {
   "cell_type": "markdown",
   "id": "025a7322-15e2-4956-8e7f-f63ee4d5436c",
   "metadata": {},
   "source": [
    "Variables"
   ]
  },
  {
   "cell_type": "code",
   "execution_count": 120,
   "id": "001f5585-8478-4c29-9688-918015d6bdc6",
   "metadata": {},
   "outputs": [],
   "source": [
    "a =10  # Variables in python are reference to objects in memory"
   ]
  },
  {
   "cell_type": "code",
   "execution_count": 123,
   "id": "deac1884-dafb-4d9f-a6f9-a10b9c2107b1",
   "metadata": {},
   "outputs": [
    {
     "data": {
      "text/plain": [
       "1696491242000"
      ]
     },
     "execution_count": 123,
     "metadata": {},
     "output_type": "execute_result"
    }
   ],
   "source": [
    "id(a)  # memory address to which a is pointing to"
   ]
  },
  {
   "cell_type": "code",
   "execution_count": 124,
   "id": "ca9d7d28-2232-43f9-89b1-ea09dabe953e",
   "metadata": {},
   "outputs": [
    {
     "data": {
      "text/plain": [
       "'0x18afec20210'"
      ]
     },
     "execution_count": 124,
     "metadata": {},
     "output_type": "execute_result"
    }
   ],
   "source": [
    "hex(id(a))"
   ]
  },
  {
   "cell_type": "code",
   "execution_count": null,
   "id": "84a4d749-8ac4-4e42-91ac-eeb26453b073",
   "metadata": {},
   "outputs": [],
   "source": []
  }
 ],
 "metadata": {
  "kernelspec": {
   "display_name": "Python 3 (ipykernel)",
   "language": "python",
   "name": "python3"
  },
  "language_info": {
   "codemirror_mode": {
    "name": "ipython",
    "version": 3
   },
   "file_extension": ".py",
   "mimetype": "text/x-python",
   "name": "python",
   "nbconvert_exporter": "python",
   "pygments_lexer": "ipython3",
   "version": "3.10.11"
  }
 },
 "nbformat": 4,
 "nbformat_minor": 5
}
